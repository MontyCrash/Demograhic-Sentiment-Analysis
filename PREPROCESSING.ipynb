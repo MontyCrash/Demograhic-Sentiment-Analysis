{
  "nbformat": 4,
  "nbformat_minor": 0,
  "metadata": {
    "colab": {
      "name": "PREPROCESSING.ipynb",
      "provenance": [],
      "collapsed_sections": []
    },
    "kernelspec": {
      "name": "python3",
      "display_name": "Python 3"
    },
    "language_info": {
      "name": "python"
    }
  },
  "cells": [
    {
      "cell_type": "code",
      "source": [
        "# https://colab.research.google.com/drive/1xqkvuNDg0Opk-aZpicTVPNY4wUdC7Y7v?usp=sharing#scrollTo=Tl4_dITCUk83\n",
        "# https://towardsdatascience.com/bert-text-classification-using-pytorch-723dfb8b6b5b\n",
        "\n",
        "# Загрузим требуемые пакеты\n",
        "import re\n",
        "import warnings\n",
        "\n",
        "import numpy as np\n",
        "import pandas as pd\n",
        "import torch\n",
        "from matplotlib import pyplot as plt\n",
        "import seaborn as sns\n",
        "from sklearn.model_selection import train_test_split\n",
        "\n",
        "first_n_words = 200\n",
        "source_root = 'source_root'\n",
        "destination_folder = 'outputs'\n",
        "lr = 1e-5\n",
        "batch_size = 200\n",
        "epochs = 10\n",
      ],
      "metadata": {
        "id": "P9oIfjfzCnvK"
      },
      "execution_count": null,
      "outputs": []
    },
    {
      "cell_type": "code",
      "source": [
        "warnings.filterwarnings('ignore')\n",
        "pd.pandas.set_option('display.max_columns', None)\n",
        "pd.set_option(\"expand_frame_repr\", False)\n",
        "pd.set_option(\"precision\", 2)\n",
        "device = torch.device('cuda:0' if torch.cuda.is_available() else 'cpu')\n",
        "print('device = ', device)"
      ],
      "metadata": {
        "colab": {
          "base_uri": "https://localhost:8080/"
        },
        "id": "nED26kq8CsiU",
        "outputId": "850ca0ad-b0dc-49c3-acda-f42199c3ce50"
      },
      "execution_count": null,
      "outputs": [
        {
          "output_type": "stream",
          "name": "stdout",
          "text": [
            "device =  cpu\n"
          ]
        }
      ]
    },
    {
      "cell_type": "code",
      "source": [
        "# Параметры\n",
        "filename = 'dataset.csv'\n",
        "\n",
        "train_test_ratio = 0.2  # 0.9\n",
        "train_valid_ratio = 0.75  # 0.5"
      ],
      "metadata": {
        "id": "rPwVm_oZCttQ"
      },
      "execution_count": null,
      "outputs": []
    },
    {
      "cell_type": "code",
      "source": [
        "# Предобработка\n",
        "def trim_string(x):\n",
        "\n",
        "    x = x.split(maxsplit=first_n_words)\n",
        "    x = ' '.join(x[:first_n_words])\n",
        "\n",
        "    return x"
      ],
      "metadata": {
        "id": "FhOUG7aJC96J"
      },
      "execution_count": null,
      "outputs": []
    },
    {
      "cell_type": "code",
      "source": [
        "# Считаем исходные данные\n",
        "df = pd.read_csv(f'{source_root}/{filename}', delimiter=';')\n",
        "df = df[['Sentiment', 'SentimentText']]\n",
        "df.dropna(inplace=True)"
      ],
      "metadata": {
        "id": "BF8Om9M1DATR"
      },
      "execution_count": null,
      "outputs": []
    },
    {
      "cell_type": "code",
      "source": [
        "# Исходный размер выборки\n",
        "df.shape"
      ],
      "metadata": {
        "colab": {
          "base_uri": "https://localhost:8080/"
        },
        "id": "pFrIFumgrrsH",
        "outputId": "0817d207-53b1-4667-d418-6f844ad945e3"
      },
      "execution_count": null,
      "outputs": [
        {
          "output_type": "execute_result",
          "data": {
            "text/plain": [
              "(4907, 2)"
            ]
          },
          "metadata": {},
          "execution_count": 30
        }
      ]
    },
    {
      "cell_type": "code",
      "source": [
        "# Число наблюдений с меткой \"негативные\"\n",
        "df[df['Sentiment'] == 1].shape"
      ],
      "metadata": {
        "colab": {
          "base_uri": "https://localhost:8080/"
        },
        "id": "8cVr3j4bsyOU",
        "outputId": "fd44019b-7686-4d17-a380-96ae45152523"
      },
      "execution_count": null,
      "outputs": [
        {
          "output_type": "execute_result",
          "data": {
            "text/plain": [
              "(2168, 2)"
            ]
          },
          "metadata": {},
          "execution_count": 31
        }
      ]
    },
    {
      "cell_type": "code",
      "source": [
        "# Число наблюдений с меткой \"позитивные\"\n",
        "df[df['Sentiment'] == 2].shape"
      ],
      "metadata": {
        "colab": {
          "base_uri": "https://localhost:8080/"
        },
        "id": "sIo-dGUYs2Ti",
        "outputId": "d4fc8886-2453-4018-f6d5-44c94716f329"
      },
      "execution_count": null,
      "outputs": [
        {
          "output_type": "execute_result",
          "data": {
            "text/plain": [
              "(2239, 2)"
            ]
          },
          "metadata": {},
          "execution_count": 32
        }
      ]
    },
    {
      "cell_type": "code",
      "source": [
        "# Число наблюдений с меткой \"прочие\"\n",
        "df[df['Sentiment'] == 0].shape"
      ],
      "metadata": {
        "colab": {
          "base_uri": "https://localhost:8080/"
        },
        "id": "41Ilq_Hqs4-M",
        "outputId": "97595705-f34b-4921-bd43-7bb3235cee5a"
      },
      "execution_count": null,
      "outputs": [
        {
          "output_type": "execute_result",
          "data": {
            "text/plain": [
              "(500, 2)"
            ]
          },
          "metadata": {},
          "execution_count": 33
        }
      ]
    },
    {
      "cell_type": "code",
      "source": [
        "fig = plt.figure(figsize=(8, 5))\n",
        "ax = sns.barplot(x=df.Sentiment.unique(), y=df.Sentiment.value_counts())\n",
        "ax.set(xlabel='Labels')\n",
        "plt.title('Распределение классов')\n",
        "plt.show()"
      ],
      "metadata": {
        "colab": {
          "base_uri": "https://localhost:8080/",
          "height": 350
        },
        "id": "Yev4gQaIDrSi",
        "outputId": "57898a95-db42-4386-d048-2566a52159ee"
      },
      "execution_count": null,
      "outputs": [
        {
          "output_type": "display_data",
          "data": {
            "text/plain": [
              "<Figure size 576x360 with 1 Axes>"
            ],
            "image/png": "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\n"
          },
          "metadata": {
            "needs_background": "light"
          }
        }
      ]
    },
    {
      "cell_type": "markdown",
      "source": [
        "У нас наблюдается дисбаланс наблюдений по классам. Негативных и позитивных примерно поровну, очень мало \"прочих\". Избавимся от последних и переобозначим лейблы у негативных и позитивных"
      ],
      "metadata": {
        "id": "28ckDTbA9uoN"
      }
    },
    {
      "cell_type": "code",
      "source": [
        "# Поменяем лейблы\n",
        "df1 = df[df['Sentiment'] == 1]\n",
        "df2 = df[df['Sentiment'] == 2]\n",
        "df2['Sentiment'] = 0\n",
        "df = pd.concat([df1, df2], ignore_index=True, sort=False)\n",
        "print(df)"
      ],
      "metadata": {
        "colab": {
          "base_uri": "https://localhost:8080/"
        },
        "id": "vH4Mzl8HDCMq",
        "outputId": "bf2f4714-20fe-47fb-9dbd-18e3c1553720"
      },
      "execution_count": null,
      "outputs": [
        {
          "output_type": "stream",
          "name": "stdout",
          "text": [
            "      Sentiment                                      SentimentText\n",
            "0             1  человек боится потерять ребенка, а вы ему : \"е...\n",
            "1             1  а вы тоже ходите в абортарий и детский дом как...\n",
            "2             1                    автор, одумайся, не делай аборт\n",
            "3             1  на вопрос о том, почему она сама родила, она о...\n",
            "4             1  лозунгами вроде \"аборт - это весело\" (коих в с...\n",
            "...         ...                                                ...\n",
            "4402          0  рожать - не работать? рожать - не работать????...\n",
            "4403          0  а то, если постоянно говорить о детях, декрете...\n",
            "4404          0  и искренне такое удивление, сколько же надо на...\n",
            "4405          0  и когда жена, сидящая в декрете, робко просит ...\n",
            "4406          0  тоже взяли временно на место декретницы, но он...\n",
            "\n",
            "[4407 rows x 2 columns]\n"
          ]
        }
      ]
    },
    {
      "cell_type": "code",
      "source": [
        "# Prepare columns\n",
        "# df_raw['Sentiment'] = (df_raw['Sentiment'] == 'FAKE').astype('int')\n",
        "# df_raw['titletext'] = df_raw['title'] + \". \" + df_raw['text']\n",
        "# df_raw = df_raw.reindex(columns=['label', 'title', 'text', 'titletext'])"
      ],
      "metadata": {
        "id": "62HnCtwzDEX5"
      },
      "execution_count": null,
      "outputs": []
    },
    {
      "cell_type": "code",
      "source": [
        "# Удалим пустые столбцы\n",
        "df.drop(df[df.SentimentText.str.len() < 5].index, inplace=True)\n",
        "print(df.shape)"
      ],
      "metadata": {
        "colab": {
          "base_uri": "https://localhost:8080/"
        },
        "id": "EDi40VnPDGI4",
        "outputId": "79ee8e8b-8a51-4909-b444-df085bdaa98c"
      },
      "execution_count": null,
      "outputs": [
        {
          "output_type": "stream",
          "name": "stdout",
          "text": [
            "(4406, 2)\n"
          ]
        }
      ]
    },
    {
      "cell_type": "code",
      "source": [
        "fig = plt.figure(figsize=(8, 5))\n",
        "ax = sns.barplot(x=df.Sentiment.unique(), y=df.Sentiment.value_counts())\n",
        "ax.set(xlabel='Labels')\n",
        "plt.title('Распределение классов')\n",
        "plt.show()"
      ],
      "metadata": {
        "colab": {
          "base_uri": "https://localhost:8080/",
          "height": 350
        },
        "id": "bhwHe8DeDHwg",
        "outputId": "4b331afe-8750-4484-c90e-955cd8e520c7"
      },
      "execution_count": null,
      "outputs": [
        {
          "output_type": "display_data",
          "data": {
            "text/plain": [
              "<Figure size 576x360 with 1 Axes>"
            ],
            "image/png": "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\n"
          },
          "metadata": {
            "needs_background": "light"
          }
        }
      ]
    },
    {
      "cell_type": "code",
      "source": [
        "# Число наблюдений с меткой \"негативные\" в новом датасете\n",
        "df[df['Sentiment'] == 1].shape"
      ],
      "metadata": {
        "colab": {
          "base_uri": "https://localhost:8080/"
        },
        "id": "R0uSjh63taAe",
        "outputId": "0a16a59b-7144-4df1-8ba6-ff1ff8774022"
      },
      "execution_count": null,
      "outputs": [
        {
          "output_type": "execute_result",
          "data": {
            "text/plain": [
              "(2167, 2)"
            ]
          },
          "metadata": {},
          "execution_count": 38
        }
      ]
    },
    {
      "cell_type": "code",
      "source": [
        "# Число наблюдений с меткой \"прочие\" в новом датасете (их теперь нет и не должно быть)\n",
        "df[df['Sentiment'] == 2].shape"
      ],
      "metadata": {
        "colab": {
          "base_uri": "https://localhost:8080/"
        },
        "id": "hkd9IiM4tb8P",
        "outputId": "2805d240-8e83-44a2-cfcf-67d8ce614eda"
      },
      "execution_count": null,
      "outputs": [
        {
          "output_type": "execute_result",
          "data": {
            "text/plain": [
              "(0, 2)"
            ]
          },
          "metadata": {},
          "execution_count": 39
        }
      ]
    },
    {
      "cell_type": "code",
      "source": [
        "# Число наблюдений с меткой \"позитивные\" в новом датасете \n",
        "df[df['Sentiment'] == 0].shape"
      ],
      "metadata": {
        "colab": {
          "base_uri": "https://localhost:8080/"
        },
        "id": "dJsytfTYte0f",
        "outputId": "eb8c644e-5ac2-4b09-9ef7-e9323b0a63ce"
      },
      "execution_count": null,
      "outputs": [
        {
          "output_type": "execute_result",
          "data": {
            "text/plain": [
              "(2239, 2)"
            ]
          },
          "metadata": {},
          "execution_count": 40
        }
      ]
    },
    {
      "cell_type": "code",
      "source": [
        "# Удалим пустые комментарии\n",
        "df.drop(df[df.SentimentText.str.len() < 5].index, inplace=True)\n",
        "print(df.shape)\n",
        "print(df)\n",
        "print(type(df.SentimentText))\n",
        "print(f'\\nУникальных значений:\\n{df.nunique()}')"
      ],
      "metadata": {
        "colab": {
          "base_uri": "https://localhost:8080/"
        },
        "id": "saTlQOYIDJQh",
        "outputId": "345f01f3-239c-4d96-a254-b6e800a0fe94"
      },
      "execution_count": null,
      "outputs": [
        {
          "output_type": "stream",
          "name": "stdout",
          "text": [
            "(4406, 2)\n",
            "      Sentiment                                      SentimentText\n",
            "0             1  человек боится потерять ребенка, а вы ему : \"е...\n",
            "1             1  а вы тоже ходите в абортарий и детский дом как...\n",
            "2             1                    автор, одумайся, не делай аборт\n",
            "3             1  на вопрос о том, почему она сама родила, она о...\n",
            "4             1  лозунгами вроде \"аборт - это весело\" (коих в с...\n",
            "...         ...                                                ...\n",
            "4402          0  рожать - не работать? рожать - не работать????...\n",
            "4403          0  а то, если постоянно говорить о детях, декрете...\n",
            "4404          0  и искренне такое удивление, сколько же надо на...\n",
            "4405          0  и когда жена, сидящая в декрете, робко просит ...\n",
            "4406          0  тоже взяли временно на место декретницы, но он...\n",
            "\n",
            "[4406 rows x 2 columns]\n",
            "<class 'pandas.core.series.Series'>\n",
            "\n",
            "Уникальных значений:\n",
            "Sentiment           2\n",
            "SentimentText    4345\n",
            "dtype: int64\n"
          ]
        }
      ]
    },
    {
      "cell_type": "code",
      "source": [
        "# Сохраним метки в виде списков\n",
        "reviews = df.SentimentText.values.tolist()\n",
        "labels = df.Sentiment.values.tolist()"
      ],
      "metadata": {
        "id": "RGfEIMkvDK3Q"
      },
      "execution_count": null,
      "outputs": []
    },
    {
      "cell_type": "code",
      "source": [
        "# Удалим заглавные и знаки препинания и составим словарь\n",
        "for i, review in enumerate(reviews):\n",
        "    review = str(review).lower()\n",
        "    review = re.sub(r'[^\\w\\s]', '', review)\n",
        "    reviews[i] = review\n",
        "print(f'60 reviews:\\t{reviews[0][:70]}, {type(reviews)}, {len(reviews)}')\n",
        "print(f'61 labels:\\t{labels[0]}, {type(labels)}, {len(labels)}')"
      ],
      "metadata": {
        "colab": {
          "base_uri": "https://localhost:8080/"
        },
        "id": "ox6LC2_aDMqY",
        "outputId": "707890d7-ec2b-4500-b7f8-f933ed0aa4cd"
      },
      "execution_count": null,
      "outputs": [
        {
          "output_type": "stream",
          "name": "stdout",
          "text": [
            "60 reviews:\tчеловек боится потерять ребенка а вы ему  если какието проблемыто дела, <class 'list'>, 4406\n",
            "61 labels:\t1, <class 'list'>, 4406\n"
          ]
        }
      ]
    },
    {
      "cell_type": "code",
      "source": [
        "# Создадим очищенный от препинаний и тд датасет\n",
        "df_new = pd.DataFrame(list(zip(reviews, labels)), columns=['text', 'label'])\n",
        "print(df_new)\n"
      ],
      "metadata": {
        "colab": {
          "base_uri": "https://localhost:8080/"
        },
        "id": "fCEnCt0kDOU7",
        "outputId": "2635aa9a-14c0-4f1d-e761-79e4e1a4795e"
      },
      "execution_count": null,
      "outputs": [
        {
          "output_type": "stream",
          "name": "stdout",
          "text": [
            "                                                   text  label\n",
            "0     человек боится потерять ребенка а вы ему  если...      1\n",
            "1     а вы тоже ходите в абортарий и детский дом как...      1\n",
            "2                         автор одумайся не делай аборт      1\n",
            "3     на вопрос о том почему она сама родила она отв...      1\n",
            "4     лозунгами вроде аборт  это весело коих в сети ...      1\n",
            "...                                                 ...    ...\n",
            "4401  рожать  не работать рожать  не работать да уби...      0\n",
            "4402  а то если постоянно говорить о детях декрете к...      0\n",
            "4403  и искренне такое удивление сколько же надо на ...      0\n",
            "4404  и когда жена сидящая в декрете робко просит на...      0\n",
            "4405  тоже взяли временно на место декретницы но она...      0\n",
            "\n",
            "[4406 rows x 2 columns]\n"
          ]
        }
      ]
    },
    {
      "cell_type": "code",
      "source": [
        "# Разделим датасет на негативные и позитивные по лейблу\n",
        "df_pos = df_new[df_new['label'] == 1]\n",
        "df_neg = df_new[df_new['label'] == 0]"
      ],
      "metadata": {
        "id": "b52u-J1ODQAo"
      },
      "execution_count": null,
      "outputs": []
    },
    {
      "cell_type": "code",
      "source": [
        "# Разделим на train и test-выборки\n",
        "df_pos_test, df_pos_temp = train_test_split(df_pos,\n",
        "                                                  train_size=train_test_ratio, random_state=42, shuffle=True)\n",
        "df_neg_test, df_neg_temp = train_test_split(df_neg,\n",
        "                                                  train_size=train_test_ratio, random_state=42, shuffle=True)\n",
        "print(f'\\ndf_pos_temp:{df_pos_temp.shape}'\n",
        "      f'\\ndf_pos_test:{df_pos_test.shape}')"
      ],
      "metadata": {
        "colab": {
          "base_uri": "https://localhost:8080/"
        },
        "id": "QF-LNuJ_DSAJ",
        "outputId": "beffa40e-0d63-48f4-bc29-a415d83e3615"
      },
      "execution_count": null,
      "outputs": [
        {
          "output_type": "stream",
          "name": "stdout",
          "text": [
            "\n",
            "df_pos_temp:(1734, 2)\n",
            "df_pos_test:(433, 2)\n"
          ]
        }
      ]
    },
    {
      "cell_type": "code",
      "source": [
        "# Разделим на train и valid-выборки\n",
        "df_pos_train, df_pos_valid = train_test_split(df_pos_temp,\n",
        "                                              train_size=train_valid_ratio, random_state=42, shuffle=True)\n",
        "df_neg_train, df_neg_valid = train_test_split(df_neg_temp,\n",
        "                                              train_size=train_valid_ratio, random_state=42, shuffle=True)"
      ],
      "metadata": {
        "id": "8Snbo65PDUDD"
      },
      "execution_count": null,
      "outputs": []
    },
    {
      "cell_type": "code",
      "source": [
        "# Объединим подвыборки негативных и позитивных комментариев в 3 единых подмножества (train, valid и test)\n",
        "df_train = pd.concat([df_pos_train, df_neg_train], ignore_index=True, sort=False)\n",
        "df_valid = pd.concat([df_pos_valid, df_neg_valid], ignore_index=True, sort=False)\n",
        "df_test = pd.concat([df_pos_test, df_neg_test], ignore_index=True, sort=False)\n",
        "print(f'\\ndf_train: {df_train.shape}\\t\\tshare:{round(df_train.shape[0]/len(labels), 2)}'\n",
        "      f'\\ndf_valid: {df_valid.shape}\\t\\tshare:{round(df_valid.shape[0]/len(labels), 2)}'\n",
        "      f'\\ndf_test: {df_test.shape}\\t\\tshare:{round(df_test.shape[0]/len(labels), 2)}')"
      ],
      "metadata": {
        "colab": {
          "base_uri": "https://localhost:8080/"
        },
        "id": "hrJ7H0EADWJy",
        "outputId": "735e69dc-5b57-4f5e-8881-29fc698f61d5"
      },
      "execution_count": null,
      "outputs": [
        {
          "output_type": "stream",
          "name": "stdout",
          "text": [
            "\n",
            "df_train: (2644, 2)\t\tshare:0.6\n",
            "df_valid: (882, 2)\t\tshare:0.2\n",
            "df_test: (880, 2)\t\tshare:0.2\n"
          ]
        }
      ]
    },
    {
      "cell_type": "code",
      "source": [
        "# Сохраним в формате csv получившиеся обработанные подвыборки \n",
        "df_train.to_csv(source_root + '/train.csv', index=False)\n",
        "df_valid.to_csv(source_root + '/valid.csv', index=False)\n",
        "df_test.to_csv(source_root + '/test.csv', index=False)"
      ],
      "metadata": {
        "id": "Ka9n9DMeDYFd"
      },
      "execution_count": null,
      "outputs": []
    },
    {
      "cell_type": "markdown",
      "source": [
        "Мы составили 3 подмножества (train, valid, test) из предобработанных комментариев из исходного датасета. Они нам пригодятся для дальнейшего  обучения и сравнения трёх разновидностей модели RuBERT."
      ],
      "metadata": {
        "id": "5wp1f1Uhh2Fq"
      }
    }
  ]
}
